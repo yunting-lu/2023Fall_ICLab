{
 "cells": [
  {
   "cell_type": "code",
   "execution_count": 1,
   "metadata": {},
   "outputs": [],
   "source": [
    "import numpy as np\n",
    "\n",
    "PATTERN_TO_DEBUG = 0\n",
    "\n",
    "def toDec(hexstr,BIT):\n",
    "    msb4bits = hexstr[0]\n",
    "    n = int(msb4bits, 16)\n",
    "    if n >= 8:\n",
    "        p = -1*pow(2,BIT-1)\n",
    "        addend = int(str(n-8) + hexstr[1:], 16)\n",
    "        return str( p + addend)\n",
    "    else:\n",
    "        return str(int(hexstr, 16))\n",
    "\n",
    "def int2hex(num,bit_width):\n",
    "    if num<0:\n",
    "        num = (1 << bit_width) + num\n",
    "    hex_string = hex(num)[2:]\n",
    "    return '{:0>{width}}'.format(hex_string,width = (bit_width+3)//4)\n",
    "\n",
    "NEGATE = {'1': '0', '0': '1'}\n",
    "def negate(value):\n",
    "    return ''.join(NEGATE[x] for x in value)\n",
    "\n",
    "def twocomplement(n, size_in_bits):\n",
    "    # print(n)\n",
    "    number = int(n)\n",
    "    if number < 0:\n",
    "        return negate(bin(abs(number) - 1)[2:]).rjust(size_in_bits, '1')\n",
    "    else:\n",
    "        return bin(number)[2:].rjust(size_in_bits, '0')\n",
    "\n",
    "NEGATE = {'1': '0', '0': '1'}\n",
    "def negate(value):\n",
    "    return ''.join(NEGATE[x] for x in value)\n",
    "\n",
    "def reverseRow(data, index):\n",
    "\n",
    "    cols = len(data[index])\n",
    "    for i in range(cols // 2):\n",
    "        temp = data[index][i]\n",
    "        data[index][i] = data[index][cols - i - 1]\n",
    "        data[index][cols - i - 1] = temp\n",
    "\n",
    "    return data\n",
    "\n",
    "# Rotate Matrix by 180 degrees\n",
    "def rotateMatrix(data):\n",
    "\n",
    "    rows = len(data)\n",
    "    cols = len(data[0])\n",
    "\n",
    "    if (rows % 2):\n",
    "        # If N is odd reverse the middle\n",
    "        # row in the matrix\n",
    "        data = reverseRow(data, len(data) // 2)\n",
    "\n",
    "        # Swap the value of matrix [i][j] with\n",
    "        # [rows - i - 1][cols - j - 1] for half\n",
    "        # the rows size.\n",
    "        for i in range(rows // 2):\n",
    "            for j in range(cols):\n",
    "                temp = data[i][j]\n",
    "                data[i][j] = data[rows - i - 1][cols - j - 1]\n",
    "                data[rows - i - 1][cols - j - 1] = temp\n",
    "        return data\n",
    "\n",
    "def twocomplement(n, size_in_bits):\n",
    "    # print(n)\n",
    "    number = int(n)\n",
    "    if number < 0:\n",
    "        return negate(bin(abs(number) - 1)[2:]).rjust(size_in_bits, '1')\n",
    "    else:\n",
    "        return bin(number)[2:].rjust(size_in_bits, '0')\n"
   ]
  },
  {
   "cell_type": "code",
   "execution_count": 2,
   "metadata": {},
   "outputs": [],
   "source": [
    "with open('input.txt', 'r') as file:\n",
    "  file_in = file.readlines()\n",
    "\n",
    "NUM = int(file_in[0])\n",
    "\n",
    "# print(file_in)\n",
    "for i in range(NUM):\n",
    "  img_16 = []\n",
    "  kernal_16 = []\n",
    "  matrix_idx = []\n",
    "  mode = []\n",
    "\n",
    "  # MATRIX SIZE\n",
    "  matrix_in_idx = int(file_in[1 + 65 * i + 0])\n",
    "\n",
    "  if matrix_in_idx == 0:\n",
    "     matrix_size = 8\n",
    "  elif matrix_in_idx == 1:\n",
    "     matrix_size = 16\n",
    "  else:\n",
    "     matrix_size = 32\n",
    "\n",
    "  for j in range(16):\n",
    "    img_in = np.array([int(toDec(val,8)) for val in file_in[1 + 65 * i + (1+j)].split()])\n",
    "    img_16.append(np.reshape(img_in,(matrix_size,matrix_size)))\n",
    "\n",
    "  for k in range(16):\n",
    "    kernal_in = np.array([int(toDec(val,8)) for val in file_in[1 + 65 * i + (17+k)].split()])\n",
    "    kernal_16.append(np.reshape(kernal_in,(5,5)))\n",
    "\n",
    "\n",
    "  for idx in range(16):\n",
    "    mode.append(int(file_in[1 + 65 * i + (33+idx*2)])) #0 2 4\n",
    "    matrix_idx.append(np.array([int(val) for val in file_in[1 + 65 * i + (34+idx*2)].split()]))# 1 3 5\n",
    "\n",
    "  if i == PATTERN_TO_DEBUG:\n",
    "    break"
   ]
  },
  {
   "cell_type": "code",
   "execution_count": 3,
   "metadata": {},
   "outputs": [
    {
     "data": {
      "text/plain": [
       "0"
      ]
     },
     "execution_count": 3,
     "metadata": {},
     "output_type": "execute_result"
    }
   ],
   "source": [
    "mode[0]"
   ]
  },
  {
   "cell_type": "code",
   "execution_count": 4,
   "metadata": {},
   "outputs": [
    {
     "data": {
      "text/plain": [
       "array([14,  2])"
      ]
     },
     "execution_count": 4,
     "metadata": {},
     "output_type": "execute_result"
    }
   ],
   "source": [
    "matrix_idx[6]"
   ]
  },
  {
   "cell_type": "code",
   "execution_count": 5,
   "metadata": {},
   "outputs": [
    {
     "data": {
      "text/plain": [
       "array([[1, 1, 1, 1, 2, 1, 1, 2],\n",
       "       [2, 1, 1, 1, 1, 2, 1, 1],\n",
       "       [1, 1, 2, 1, 1, 2, 2, 1],\n",
       "       [2, 2, 1, 1, 2, 2, 2, 1],\n",
       "       [2, 2, 2, 2, 2, 2, 1, 2],\n",
       "       [2, 2, 2, 2, 1, 1, 1, 1],\n",
       "       [2, 2, 2, 2, 2, 2, 1, 1],\n",
       "       [2, 2, 2, 1, 1, 1, 1, 1]])"
      ]
     },
     "execution_count": 5,
     "metadata": {},
     "output_type": "execute_result"
    }
   ],
   "source": [
    "img_16[13]"
   ]
  },
  {
   "cell_type": "code",
   "execution_count": 6,
   "metadata": {},
   "outputs": [
    {
     "data": {
      "text/plain": [
       "array([[1, 1, 2, 1, 2],\n",
       "       [1, 1, 2, 1, 2],\n",
       "       [1, 2, 2, 1, 1],\n",
       "       [1, 1, 2, 2, 2],\n",
       "       [2, 1, 1, 2, 1]])"
      ]
     },
     "execution_count": 6,
     "metadata": {},
     "output_type": "execute_result"
    }
   ],
   "source": [
    "kernal_16[8]"
   ]
  },
  {
   "cell_type": "code",
   "execution_count": 7,
   "metadata": {},
   "outputs": [
    {
     "data": {
      "text/plain": [
       "array([13,  8])"
      ]
     },
     "execution_count": 7,
     "metadata": {},
     "output_type": "execute_result"
    }
   ],
   "source": [
    "matrix_idx[0]"
   ]
  },
  {
   "cell_type": "code",
   "execution_count": 8,
   "metadata": {},
   "outputs": [
    {
     "data": {
      "text/plain": [
       "8"
      ]
     },
     "execution_count": 8,
     "metadata": {},
     "output_type": "execute_result"
    }
   ],
   "source": [
    "matrix_size"
   ]
  },
  {
   "cell_type": "markdown",
   "metadata": {},
   "source": [
    "## Convolution"
   ]
  },
  {
   "cell_type": "code",
   "execution_count": 9,
   "metadata": {},
   "outputs": [],
   "source": [
    "img = img_16[13]\n",
    "kernal = kernal_16[7]\n",
    "\n",
    "convoluted_results = np.zeros((matrix_size-4,matrix_size-4))\n",
    "for i in range(matrix_size-4):\n",
    "    for j in range(matrix_size-4):\n",
    "        conv = 0\n",
    "        for k in range(5):\n",
    "            for l in range(5):\n",
    "                conv += kernal[k,l] * img[i+k,j+l]\n",
    "\n",
    "        convoluted_results[i,j] = conv"
   ]
  },
  {
   "cell_type": "code",
   "execution_count": 10,
   "metadata": {},
   "outputs": [
    {
     "data": {
      "text/plain": [
       "array([[60., 60., 58., 59.],\n",
       "       [62., 61., 61., 58.],\n",
       "       [68., 71., 66., 59.],\n",
       "       [73., 70., 61., 56.]])"
      ]
     },
     "execution_count": 10,
     "metadata": {},
     "output_type": "execute_result"
    }
   ],
   "source": [
    "convoluted_results"
   ]
  },
  {
   "cell_type": "markdown",
   "metadata": {},
   "source": [
    "## Maxpooling"
   ]
  },
  {
   "cell_type": "code",
   "execution_count": 11,
   "metadata": {},
   "outputs": [],
   "source": [
    "convoluted_img_width = len(convoluted_results)"
   ]
  },
  {
   "cell_type": "code",
   "execution_count": 12,
   "metadata": {},
   "outputs": [],
   "source": [
    "max_pooling_results = np.zeros((convoluted_img_width//2,convoluted_img_width//2))\n",
    "\n",
    "for i in range(0,convoluted_img_width,2):\n",
    "    for j in range(0,convoluted_img_width,2):\n",
    "        max_pooling_results[i//2,j//2] = max(convoluted_results[i,j],convoluted_results[i+1,j],\\\n",
    "                                                convoluted_results[i+1,j+1],convoluted_results[i,j+1])"
   ]
  },
  {
   "cell_type": "code",
   "execution_count": 13,
   "metadata": {},
   "outputs": [
    {
     "data": {
      "text/plain": [
       "array([[62., 61.],\n",
       "       [73., 66.]])"
      ]
     },
     "execution_count": 13,
     "metadata": {},
     "output_type": "execute_result"
    }
   ],
   "source": [
    "max_pooling_results"
   ]
  },
  {
   "cell_type": "markdown",
   "metadata": {},
   "source": [
    "### Merged Convolution and max pooling"
   ]
  },
  {
   "cell_type": "code",
   "execution_count": 14,
   "metadata": {},
   "outputs": [
    {
     "data": {
      "text/plain": [
       "array([[1, 1, 1, 1, 2, 1, 1, 2],\n",
       "       [2, 1, 1, 1, 1, 2, 1, 1],\n",
       "       [1, 1, 2, 1, 1, 2, 2, 1],\n",
       "       [2, 2, 1, 1, 2, 2, 2, 1],\n",
       "       [2, 2, 2, 2, 2, 2, 1, 2],\n",
       "       [2, 2, 2, 2, 1, 1, 1, 1],\n",
       "       [2, 2, 2, 2, 2, 2, 1, 1],\n",
       "       [2, 2, 2, 1, 1, 1, 1, 1]])"
      ]
     },
     "execution_count": 14,
     "metadata": {},
     "output_type": "execute_result"
    }
   ],
   "source": [
    "img_16[13]"
   ]
  },
  {
   "cell_type": "code",
   "execution_count": 15,
   "metadata": {},
   "outputs": [
    {
     "data": {
      "text/plain": [
       "array([[1, 1, 2, 1, 2],\n",
       "       [1, 1, 2, 1, 2],\n",
       "       [1, 2, 2, 1, 1],\n",
       "       [1, 1, 2, 2, 2],\n",
       "       [2, 1, 1, 2, 1]])"
      ]
     },
     "execution_count": 15,
     "metadata": {},
     "output_type": "execute_result"
    }
   ],
   "source": [
    "kernal_16[8]"
   ]
  },
  {
   "cell_type": "code",
   "execution_count": 16,
   "metadata": {},
   "outputs": [],
   "source": [
    "img = img_16[13]\n",
    "kernal = kernal_16[7]"
   ]
  },
  {
   "cell_type": "code",
   "execution_count": 17,
   "metadata": {},
   "outputs": [
    {
     "name": "stdout",
     "output_type": "stream",
     "text": [
      "0\n",
      "0\n",
      "2\n",
      "2\n"
     ]
    }
   ],
   "source": [
    "max_pooling_results = np.zeros((convoluted_img_width//2,convoluted_img_width//2))\n",
    "for img_yptr in range(0,matrix_size-4,2):\n",
    "    for img_xptr in range(0,matrix_size-4,2):\n",
    "        print(img_yptr)\n",
    "\n",
    "        temp_max = -999999\n",
    "        # 4 times convolution to quickly get values needed for max pooling\n",
    "        for mp_window_y in range(2):\n",
    "            for mp_window_x in range(2):\n",
    "                conv = 0\n",
    "                idx_x = img_xptr+mp_window_x\n",
    "                idx_y = img_yptr+mp_window_y\n",
    "                for k_yptr in range(5):\n",
    "                    # Uses High level modeling for fast MAC, img_x_cord[x] and kernal_x_cord[x]\n",
    "                    for k_xptr in range(5): # Unrolling the x_ptr\n",
    "                        conv += kernal[k_yptr,k_xptr] * img[idx_y+k_yptr,idx_x+k_xptr]\n",
    "\n",
    "                    # print(conv)\n",
    "\n",
    "                if (mp_window_y == 0 and mp_window_x == 0) or conv > temp_max:\n",
    "                    temp_max = conv\n",
    "\n",
    "        max_pooling_results[img_yptr//2,img_xptr//2] = temp_max"
   ]
  },
  {
   "cell_type": "code",
   "execution_count": 18,
   "metadata": {},
   "outputs": [
    {
     "data": {
      "text/plain": [
       "array([[62., 61.],\n",
       "       [73., 66.]])"
      ]
     },
     "execution_count": 18,
     "metadata": {},
     "output_type": "execute_result"
    }
   ],
   "source": [
    "max_pooling_results"
   ]
  },
  {
   "cell_type": "code",
   "execution_count": 19,
   "metadata": {},
   "outputs": [],
   "source": [
    "max_pooling_results = np.zeros((convoluted_img_width//2,convoluted_img_width//2))\n",
    "for img_yptr in range(0,matrix_size-4,2):\n",
    "    for img_xptr in range(0,matrix_size-4,2):\n",
    "        temp_max = -999999\n",
    "        # 4 times convolution to quickly get values needed for max pooling\n",
    "        for mp_window_y in range(2):\n",
    "            for mp_window_x in range(2):\n",
    "                conv = 0\n",
    "                idx_y = img_yptr+mp_window_y\n",
    "                idx_x = img_xptr+mp_window_x\n",
    "                for k_yptr in range(5):\n",
    "                    conv += kernal[k_yptr,0] * img[idx_y+k_yptr,idx_x+0]\n",
    "                    conv += kernal[k_yptr,1] * img[idx_y+k_yptr,idx_x+1]\n",
    "                    conv += kernal[k_yptr,2] * img[idx_y+k_yptr,idx_x+2]\n",
    "                    conv += kernal[k_yptr,3] * img[idx_y+k_yptr,idx_x+3]\n",
    "                    conv += kernal[k_yptr,4] * img[idx_y+k_yptr,idx_x+4]\n",
    "\n",
    "                if (mp_window_y == 0 and mp_window_x == 0) or conv > temp_max:\n",
    "                    temp_max = conv\n",
    "\n",
    "        max_pooling_results[img_yptr//2,img_xptr//2] = temp_max"
   ]
  },
  {
   "cell_type": "code",
   "execution_count": 20,
   "metadata": {},
   "outputs": [
    {
     "data": {
      "text/plain": [
       "array([[62., 61.],\n",
       "       [73., 66.]])"
      ]
     },
     "execution_count": 20,
     "metadata": {},
     "output_type": "execute_result"
    }
   ],
   "source": [
    "max_pooling_results"
   ]
  },
  {
   "cell_type": "markdown",
   "metadata": {},
   "source": [
    "### Transposed convolution"
   ]
  },
  {
   "cell_type": "code",
   "execution_count": 21,
   "metadata": {},
   "outputs": [],
   "source": [
    "trans_convoluted_results = np.zeros((matrix_size+4,matrix_size+4))\n",
    "for i in range(matrix_size):\n",
    "    for j in range(matrix_size):\n",
    "        for k in range(5):\n",
    "            for l in range(5):\n",
    "                conv = kernal[k,l] * img[i,j]\n",
    "                trans_convoluted_results[i+k,j+l] += conv"
   ]
  },
  {
   "cell_type": "code",
   "execution_count": 22,
   "metadata": {},
   "outputs": [
    {
     "data": {
      "text/plain": [
       "array([[ 2.,  4.,  5.,  6., 10., 10.,  9., 11., 10.,  5.,  4.,  4.],\n",
       "       [ 6.,  9., 10., 13., 20., 19., 19., 21., 16., 12.,  9.,  6.],\n",
       "       [ 7., 11., 17., 22., 27., 30., 32., 29., 25., 20., 12.,  6.],\n",
       "       [10., 19., 26., 28., 40., 43., 45., 42., 35., 28., 17.,  9.],\n",
       "       [15., 25., 34., 43., 60., 59., 56., 60., 49., 35., 22., 13.],\n",
       "       [16., 29., 40., 49., 61., 61., 61., 58., 45., 33., 21., 11.],\n",
       "       [16., 30., 43., 54., 67., 69., 67., 58., 46., 35., 21., 10.],\n",
       "       [18., 34., 46., 56., 72., 69., 61., 58., 44., 33., 19., 11.],\n",
       "       [14., 26., 38., 48., 59., 57., 50., 45., 33., 23., 15.,  9.],\n",
       "       [10., 20., 30., 37., 43., 39., 35., 31., 22., 16.,  9.,  5.],\n",
       "       [ 8., 14., 20., 24., 31., 29., 26., 22., 17., 12.,  7.,  4.],\n",
       "       [ 4.,  8., 10., 12., 14., 13., 11.,  9.,  7.,  5.,  4.,  2.]])"
      ]
     },
     "execution_count": 22,
     "metadata": {},
     "output_type": "execute_result"
    }
   ],
   "source": [
    "trans_convoluted_results"
   ]
  },
  {
   "cell_type": "markdown",
   "metadata": {},
   "source": [
    "## Transpoed convolution with zero-padding"
   ]
  },
  {
   "cell_type": "code",
   "execution_count": 23,
   "metadata": {},
   "outputs": [],
   "source": [
    "img = img_16[13]"
   ]
  },
  {
   "cell_type": "code",
   "execution_count": 24,
   "metadata": {},
   "outputs": [
    {
     "data": {
      "text/plain": [
       "array([[1, 1, 1, 1, 2, 1, 1, 2],\n",
       "       [2, 1, 1, 1, 1, 2, 1, 1],\n",
       "       [1, 1, 2, 1, 1, 2, 2, 1],\n",
       "       [2, 2, 1, 1, 2, 2, 2, 1],\n",
       "       [2, 2, 2, 2, 2, 2, 1, 2],\n",
       "       [2, 2, 2, 2, 1, 1, 1, 1],\n",
       "       [2, 2, 2, 2, 2, 2, 1, 1],\n",
       "       [2, 2, 2, 1, 1, 1, 1, 1]])"
      ]
     },
     "execution_count": 24,
     "metadata": {},
     "output_type": "execute_result"
    }
   ],
   "source": [
    "img"
   ]
  },
  {
   "cell_type": "code",
   "execution_count": 25,
   "metadata": {},
   "outputs": [],
   "source": [
    "kernal = kernal_16[7]"
   ]
  },
  {
   "cell_type": "code",
   "execution_count": 26,
   "metadata": {},
   "outputs": [
    {
     "data": {
      "text/plain": [
       "array([[2, 2, 1, 1, 2],\n",
       "       [2, 1, 1, 2, 2],\n",
       "       [1, 2, 2, 1, 1],\n",
       "       [2, 1, 2, 1, 2],\n",
       "       [2, 2, 1, 2, 2]])"
      ]
     },
     "execution_count": 26,
     "metadata": {},
     "output_type": "execute_result"
    }
   ],
   "source": [
    "kernal"
   ]
  },
  {
   "cell_type": "code",
   "execution_count": 27,
   "metadata": {},
   "outputs": [],
   "source": [
    "new_trans_convoluted_results = np.zeros((matrix_size+4,matrix_size+4))\n",
    "# Note the matrix is flipped\n",
    "lower_bound0 = matrix_size + 4\n",
    "lower_bound1 = matrix_size + 5\n",
    "lower_bound2 = matrix_size + 6\n",
    "lower_bound3 = matrix_size + 7\n",
    "\n",
    "for img_ytr in range(matrix_size+4):\n",
    "    for img_xptr in range(matrix_size+4):\n",
    "        conv = 0\n",
    "        for k_yptr in range(5):\n",
    "            # Uses High level always@* , need idx_x[x]\n",
    "            for k_xptr in range(5):\n",
    "                idx_y = img_ytr + k_yptr\n",
    "                idx_x = img_xptr + k_xptr\n",
    "                if idx_y == 0 or idx_y == 1 or idx_y == 2 or idx_y == 3 or idx_x == 0 or idx_x == 1 \\\n",
    "                    or idx_x == 2 or idx_x == 3:\n",
    "                        conv += 0\n",
    "                elif idx_y == lower_bound0 or idx_y == lower_bound1 or idx_y == lower_bound2 or idx_y == lower_bound3 \\\n",
    "                    or idx_x == lower_bound0 or idx_x == lower_bound1 or idx_x == lower_bound2 or idx_x == lower_bound3 :\n",
    "                        conv += 0\n",
    "                else:\n",
    "                   # Address translation\n",
    "                   conv += kernal[4-k_yptr,4-k_xptr] * img[idx_y-4,idx_x-4]\n",
    "\n",
    "        new_trans_convoluted_results[img_ytr,img_xptr] = conv\n"
   ]
  },
  {
   "cell_type": "code",
   "execution_count": null,
   "metadata": {},
   "outputs": [],
   "source": [
    "rotateMatrix(kernal)"
   ]
  },
  {
   "cell_type": "code",
   "execution_count": 28,
   "metadata": {},
   "outputs": [
    {
     "data": {
      "text/plain": [
       "array([[ 2.,  4.,  5.,  6., 10., 10.,  9., 11., 10.,  5.,  4.,  4.],\n",
       "       [ 6.,  9., 10., 13., 20., 19., 19., 21., 16., 12.,  9.,  6.],\n",
       "       [ 7., 11., 17., 22., 27., 30., 32., 29., 25., 20., 12.,  6.],\n",
       "       [10., 19., 26., 28., 40., 43., 45., 42., 35., 28., 17.,  9.],\n",
       "       [15., 25., 34., 43., 60., 59., 56., 60., 49., 35., 22., 13.],\n",
       "       [16., 29., 40., 49., 61., 61., 61., 58., 45., 33., 21., 11.],\n",
       "       [16., 30., 43., 54., 67., 69., 67., 58., 46., 35., 21., 10.],\n",
       "       [18., 34., 46., 56., 72., 69., 61., 58., 44., 33., 19., 11.],\n",
       "       [14., 26., 38., 48., 59., 57., 50., 45., 33., 23., 15.,  9.],\n",
       "       [10., 20., 30., 37., 43., 39., 35., 31., 22., 16.,  9.,  5.],\n",
       "       [ 8., 14., 20., 24., 31., 29., 26., 22., 17., 12.,  7.,  4.],\n",
       "       [ 4.,  8., 10., 12., 14., 13., 11.,  9.,  7.,  5.,  4.,  2.]])"
      ]
     },
     "execution_count": 28,
     "metadata": {},
     "output_type": "execute_result"
    }
   ],
   "source": [
    "new_trans_convoluted_results"
   ]
  },
  {
   "cell_type": "code",
   "execution_count": 37,
   "metadata": {},
   "outputs": [
    {
     "data": {
      "text/plain": [
       "True"
      ]
     },
     "execution_count": 37,
     "metadata": {},
     "output_type": "execute_result"
    }
   ],
   "source": [
    "np.array_equal(new_trans_convoluted_results,trans_convoluted_results)"
   ]
  },
  {
   "cell_type": "code",
   "execution_count": 29,
   "metadata": {},
   "outputs": [
    {
     "name": "stdout",
     "output_type": "stream",
     "text": [
      "DEBUG\n",
      "DEBUG\n",
      "DEBUG\n",
      "DEBUG\n",
      "DEBUG\n",
      "DEBUG\n",
      "DEBUG\n",
      "DEBUG\n",
      "DEBUG\n",
      "DEBUG\n",
      "DEBUG\n",
      "DEBUG\n"
     ]
    }
   ],
   "source": [
    "new_trans_convoluted_results = np.zeros((matrix_size+4,matrix_size+4))\n",
    "lower_bound0 = matrix_size + 4\n",
    "lower_bound1 = matrix_size + 5\n",
    "lower_bound2 = matrix_size + 6\n",
    "lower_bound3 = matrix_size + 7\n",
    "\n",
    "for img_ytr in range(matrix_size+4):\n",
    "    for img_xptr in range(matrix_size+4):\n",
    "        conv = 0\n",
    "        if(img_yptr ==2 and img_xptr == 0): print(\"DEBUG\")\n",
    "        for k_yptr in range(5):\n",
    "            # for k_xptr in range(5):\n",
    "                idx_y = img_ytr + k_yptr\n",
    "                idx_x_0 = img_xptr + 0\n",
    "                idx_x_1 = img_xptr + 1\n",
    "                idx_x_2 = img_xptr + 2\n",
    "                idx_x_3 = img_xptr + 3\n",
    "                idx_x_4 = img_xptr + 4\n",
    "                # 0\n",
    "                if idx_y == 0 or idx_y == 1 or idx_y == 2 or \\\n",
    "                    idx_y == 3 or idx_x_0 == 0 or idx_x_0 == 1 \\\n",
    "                    or idx_x_0 == 2 or idx_x_0 == 3:\n",
    "                        conv += 0\n",
    "                elif idx_y == lower_bound0 or idx_y == lower_bound1 or idx_y == lower_bound2 or idx_y == lower_bound3 \\\n",
    "                    or idx_x_0 == lower_bound0 or idx_x_0 == lower_bound1 or idx_x_0 == lower_bound2 or idx_x_0 == lower_bound3 :\n",
    "                        conv += 0\n",
    "                else:\n",
    "                   conv += kernal[4-k_yptr,4] * img[idx_y-4,idx_x_0-4]\n",
    "                # 1\n",
    "                if idx_y == 0 or idx_y == 1 or idx_y == 2 or \\\n",
    "                    idx_y == 3 or idx_x_1 == 0 or idx_x_1 == 1 \\\n",
    "                    or idx_x_1 == 2 or idx_x_1 == 3:\n",
    "                        conv += 0\n",
    "                elif idx_y == lower_bound0 or idx_y == lower_bound1 or idx_y == lower_bound2 or idx_y == lower_bound3 \\\n",
    "                    or idx_x_1 == lower_bound0 or idx_x_1 == lower_bound1 or idx_x_1 == lower_bound2 or idx_x_1 == lower_bound3 :\n",
    "                        conv += 0\n",
    "                else:\n",
    "                   conv += kernal[4-k_yptr,3] * img[idx_y-4,idx_x_1-4]\n",
    "                # 2\n",
    "                if idx_y == 0 or idx_y == 1 or idx_y == 2 or \\\n",
    "                    idx_y == 3 or idx_x_2 == 0 or idx_x_2 == 1 \\\n",
    "                    or idx_x_2 == 2 or idx_x_2 == 3:\n",
    "                        conv += 0\n",
    "                elif idx_y == lower_bound0 or idx_y == lower_bound1 or idx_y == lower_bound2 or idx_y == lower_bound3 \\\n",
    "                    or idx_x_2 == lower_bound0 or idx_x_2 == lower_bound1 or idx_x_2 == lower_bound2 or idx_x_2 == lower_bound3 :\n",
    "                        conv += 0\n",
    "                else:\n",
    "                   conv += kernal[4-k_yptr,2] * img[idx_y-4,idx_x_2-4]\n",
    "                # 3\n",
    "                if idx_y == 0 or idx_y == 1 or idx_y == 2 or \\\n",
    "                    idx_y == 3 or idx_x_3 == 0 or idx_x_3 == 1 \\\n",
    "                    or idx_x_3 == 2 or idx_x_3 == 3:\n",
    "                        conv += 0\n",
    "                elif idx_y == lower_bound0 or idx_y == lower_bound1 or idx_y == lower_bound2 or idx_y == lower_bound3 \\\n",
    "                    or idx_x_3 == lower_bound0 or idx_x_3 == lower_bound1 or idx_x_3 == lower_bound2 or idx_x_3 == lower_bound3 :\n",
    "                        conv += 0\n",
    "                else:\n",
    "                   conv += kernal[4-k_yptr,1] * img[idx_y-4,idx_x_3-4]\n",
    "\n",
    "                # 4\n",
    "                if idx_y == 0 or idx_y == 1 or idx_y == 2 or \\\n",
    "                    idx_y == 3 or idx_x_4 == 0 or idx_x_4 == 1 \\\n",
    "                    or idx_x_4 == 2 or idx_x_4 == 3:\n",
    "                        conv += 0\n",
    "                elif idx_y == lower_bound0 or idx_y == lower_bound1 or idx_y == lower_bound2 or idx_y == lower_bound3 \\\n",
    "                    or idx_x_4 == lower_bound0 or idx_x_4 == lower_bound1 or idx_x_4 == lower_bound2 or idx_x_4 == lower_bound3 :\n",
    "                        conv += 0\n",
    "                else:\n",
    "                   conv += kernal[4-k_yptr,0] * img[idx_y-4,idx_x_4-4]\n",
    "\n",
    "        new_trans_convoluted_results[img_ytr,img_xptr] = conv\n"
   ]
  },
  {
   "cell_type": "code",
   "execution_count": 30,
   "metadata": {},
   "outputs": [
    {
     "data": {
      "text/plain": [
       "array([[ 2.,  4.,  5.,  6., 10., 10.,  9., 11., 10.,  5.,  4.,  4.],\n",
       "       [ 6.,  9., 10., 13., 20., 19., 19., 21., 16., 12.,  9.,  6.],\n",
       "       [ 7., 11., 17., 22., 27., 30., 32., 29., 25., 20., 12.,  6.],\n",
       "       [10., 19., 26., 28., 40., 43., 45., 42., 35., 28., 17.,  9.],\n",
       "       [15., 25., 34., 43., 60., 59., 56., 60., 49., 35., 22., 13.],\n",
       "       [16., 29., 40., 49., 61., 61., 61., 58., 45., 33., 21., 11.],\n",
       "       [16., 30., 43., 54., 67., 69., 67., 58., 46., 35., 21., 10.],\n",
       "       [18., 34., 46., 56., 72., 69., 61., 58., 44., 33., 19., 11.],\n",
       "       [14., 26., 38., 48., 59., 57., 50., 45., 33., 23., 15.,  9.],\n",
       "       [10., 20., 30., 37., 43., 39., 35., 31., 22., 16.,  9.,  5.],\n",
       "       [ 8., 14., 20., 24., 31., 29., 26., 22., 17., 12.,  7.,  4.],\n",
       "       [ 4.,  8., 10., 12., 14., 13., 11.,  9.,  7.,  5.,  4.,  2.]])"
      ]
     },
     "execution_count": 30,
     "metadata": {},
     "output_type": "execute_result"
    }
   ],
   "source": [
    "new_trans_convoluted_results"
   ]
  },
  {
   "cell_type": "markdown",
   "metadata": {},
   "source": [
    "#### Convert results to LSB binary representation"
   ]
  },
  {
   "cell_type": "code",
   "execution_count": 31,
   "metadata": {},
   "outputs": [
    {
     "data": {
      "text/plain": [
       "'00000000000000111001'"
      ]
     },
     "execution_count": 31,
     "metadata": {},
     "output_type": "execute_result"
    }
   ],
   "source": [
    "twocomplement(57,20)"
   ]
  },
  {
   "cell_type": "code",
   "execution_count": 32,
   "metadata": {},
   "outputs": [],
   "source": [
    "vf = np.vectorize(twocomplement)\n",
    "bits_result = vf(trans_convoluted_results,20)"
   ]
  },
  {
   "cell_type": "code",
   "execution_count": 33,
   "metadata": {},
   "outputs": [
    {
     "data": {
      "text/plain": [
       "'00000000000000000010'"
      ]
     },
     "execution_count": 33,
     "metadata": {},
     "output_type": "execute_result"
    }
   ],
   "source": [
    "bits_result[0][0]"
   ]
  },
  {
   "cell_type": "code",
   "execution_count": 34,
   "metadata": {},
   "outputs": [],
   "source": [
    "result = bits_result[0][0]"
   ]
  },
  {
   "cell_type": "code",
   "execution_count": 35,
   "metadata": {},
   "outputs": [],
   "source": [
    "result = result[::-1]"
   ]
  },
  {
   "cell_type": "code",
   "execution_count": 36,
   "metadata": {},
   "outputs": [
    {
     "data": {
      "text/plain": [
       "'01000000000000000000'"
      ]
     },
     "execution_count": 36,
     "metadata": {},
     "output_type": "execute_result"
    }
   ],
   "source": [
    "result"
   ]
  }
 ],
 "metadata": {
  "kernelspec": {
   "display_name": "Python 3",
   "language": "python",
   "name": "python3"
  },
  "language_info": {
   "codemirror_mode": {
    "name": "ipython",
    "version": 3
   },
   "file_extension": ".py",
   "mimetype": "text/x-python",
   "name": "python",
   "nbconvert_exporter": "python",
   "pygments_lexer": "ipython3",
   "version": "3.11.6"
  }
 },
 "nbformat": 4,
 "nbformat_minor": 2
}
